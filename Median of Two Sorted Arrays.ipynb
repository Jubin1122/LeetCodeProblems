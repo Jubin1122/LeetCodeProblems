{
 "cells": [
  {
   "cell_type": "markdown",
   "source": [
    "## Median of Two Sorted Arrays\r\n",
    "```\r\n",
    "Given two sorted arrays nums1 and nums2 of size m and n respectively, return the median of the two sorted arrays.\r\n",
    "\r\n",
    "The below solution is having a overall runtime complexity of O(n+m)\r\n",
    "\r\n",
    "```"
   ],
   "metadata": {}
  },
  {
   "cell_type": "code",
   "execution_count": 77,
   "source": [
    "def findMedianSortedArrays(nums1, nums2):\r\n",
    "\r\n",
    "    n = len(nums1)\r\n",
    "    m = len(nums2)\r\n",
    "    f_arr = []\r\n",
    "    i,j =0,0\r\n",
    "    \r\n",
    "\r\n",
    "    while i<n and j<m:\r\n",
    "        if nums1[i]<=nums2[j]:\r\n",
    "            f_arr.append(nums1[i]) \r\n",
    "            i +=1\r\n",
    "        else:\r\n",
    "            f_arr.append(nums2[j])\r\n",
    "            j +=1\r\n",
    "\r\n",
    "\r\n",
    "    while i<n:\r\n",
    "        f_arr.append(nums1[i])\r\n",
    "        i += 1\r\n",
    "\r\n",
    "\r\n",
    "    while j<m:\r\n",
    "        f_arr.append(nums2[j])        \r\n",
    "        j += 1\r\n",
    "\r\n",
    "    \r\n",
    "    if len(f_arr)%2 == 0:\r\n",
    "        ind = len(f_arr)//2\r\n",
    "        return f_arr, (f_arr[ind-1] + f_arr[ind])/2\r\n",
    "    else:\r\n",
    "        ind = int(len(f_arr)/2)\r\n",
    "        return f_arr, f_arr[int(ind)]\r\n",
    "        "
   ],
   "outputs": [],
   "metadata": {}
  },
  {
   "cell_type": "code",
   "execution_count": 78,
   "source": [
    "out, med  = findMedianSortedArrays([0,0], [0,0])\r\n",
    "print(f'median = {med}\\nconcatarray = {out}')"
   ],
   "outputs": [
    {
     "output_type": "stream",
     "name": "stdout",
     "text": [
      "median = 0.0\n",
      "concatarray = [0, 0, 0, 0]\n"
     ]
    }
   ],
   "metadata": {}
  },
  {
   "cell_type": "code",
   "execution_count": null,
   "source": [],
   "outputs": [],
   "metadata": {}
  }
 ],
 "metadata": {
  "orig_nbformat": 4,
  "language_info": {
   "name": "python",
   "version": "3.8.8",
   "mimetype": "text/x-python",
   "codemirror_mode": {
    "name": "ipython",
    "version": 3
   },
   "pygments_lexer": "ipython3",
   "nbconvert_exporter": "python",
   "file_extension": ".py"
  },
  "kernelspec": {
   "name": "python3",
   "display_name": "Python 3.8.8 64-bit ('base': conda)"
  },
  "interpreter": {
   "hash": "a01965aef490a562d96837df74be6b8ebe805647e8f4f8953db8d111e1a5a103"
  }
 },
 "nbformat": 4,
 "nbformat_minor": 2
}