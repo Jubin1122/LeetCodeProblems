{
 "cells": [
  {
   "cell_type": "markdown",
   "source": [
    "# The Oyster Card System\r\n",
    "### Below are the cases, which I have tested in the jupyter cell for better understanding.\r\n",
    "\r\n",
    "``` The API will allow us to check balance, add money, book a journey via train or bus. Also, you can see you previous journey log. ```"
   ],
   "metadata": {}
  },
  {
   "cell_type": "code",
   "execution_count": 1,
   "source": [
    "from app.oyster_card import oyster_menu\r\n",
    "menu_obj = oyster_menu()"
   ],
   "outputs": [],
   "metadata": {}
  },
  {
   "cell_type": "markdown",
   "source": [
    "# check balance in the card"
   ],
   "metadata": {}
  },
  {
   "cell_type": "code",
   "execution_count": 2,
   "source": [
    "menu_obj.main_menu()        # Option: 3(Balance), 6(EXIT)"
   ],
   "outputs": [
    {
     "output_type": "stream",
     "name": "stdout",
     "text": [
      "Current Balance: €30\n",
      "Thanks for using Oyster Card!!\n"
     ]
    },
    {
     "output_type": "error",
     "ename": "SystemExit",
     "evalue": "",
     "traceback": [
      "An exception has occurred, use %tb to see the full traceback.\n",
      "\u001b[1;31mSystemExit\u001b[0m\n"
     ]
    },
    {
     "output_type": "stream",
     "name": "stderr",
     "text": [
      "C:\\Users\\jubin\\AppData\\Roaming\\Python\\Python38\\site-packages\\IPython\\core\\interactiveshell.py:3339: UserWarning: To exit: use 'exit', 'quit', or Ctrl-D.\n",
      "  warn(\"To exit: use 'exit', 'quit', or Ctrl-D.\", stacklevel=1)\n"
     ]
    }
   ],
   "metadata": {}
  },
  {
   "cell_type": "markdown",
   "source": [
    "# Adding balance in the card\r\n",
    "**Cannot add amount more than €91**"
   ],
   "metadata": {}
  },
  {
   "cell_type": "code",
   "execution_count": 3,
   "source": [
    "menu_obj.main_menu()        # Option: 5(Add), 6(EXIT)"
   ],
   "outputs": [
    {
     "output_type": "stream",
     "name": "stdout",
     "text": [
      "Enter amount to add\n",
      "Current Balance after recharge: €31\n",
      "Thanks for using Oyster Card!!\n"
     ]
    },
    {
     "output_type": "error",
     "ename": "SystemExit",
     "evalue": "",
     "traceback": [
      "An exception has occurred, use %tb to see the full traceback.\n",
      "\u001b[1;31mSystemExit\u001b[0m\n"
     ]
    }
   ],
   "metadata": {}
  },
  {
   "cell_type": "markdown",
   "source": [
    "# If you are starting from exit or OUT, system won't allow !!"
   ],
   "metadata": {}
  },
  {
   "cell_type": "code",
   "execution_count": 4,
   "source": [
    "menu_obj.main_menu()  # Option: 2(OUT), 6(EXIT)"
   ],
   "outputs": [
    {
     "output_type": "stream",
     "name": "stdout",
     "text": [
      "Exit!!\n",
      "Enter a station code from  1 to 6, Bus Exit: 0\n",
      "Enter the transport Type; 1-Train, 2-Bus!!\n",
      "Starting point cannot be at exit\n"
     ]
    },
    {
     "output_type": "error",
     "ename": "SystemExit",
     "evalue": "",
     "traceback": [
      "An exception has occurred, use %tb to see the full traceback.\n",
      "\u001b[1;31mSystemExit\u001b[0m\n"
     ]
    }
   ],
   "metadata": {}
  },
  {
   "cell_type": "markdown",
   "source": [
    "# Jouney\r\n",
    "## Calculate:\r\n",
    "    - Fare\r\n",
    "    - Update Balance\r\n",
    "    - User can see the journey log.\r\n",
    "    - If the current balance drops below minimum fare, will prompt a user input to add amount."
   ],
   "metadata": {}
  },
  {
   "cell_type": "markdown",
   "source": [
    "**Anywhere in Zone 1 ; From Holborn to Aldgate**"
   ],
   "metadata": {}
  },
  {
   "cell_type": "code",
   "execution_count": 5,
   "source": [
    "menu_obj.main_menu()    # Option: 1(IN),2(OUT),3(Balance),4(Journey),6(EXIT)"
   ],
   "outputs": [
    {
     "output_type": "stream",
     "name": "stdout",
     "text": [
      "Boarding!!\n",
      "Enter a station code from  1 to 6, Bus Exit: 0\n",
      "Enter the transport Type; 1-Train, 2-Bus!!\n",
      "Now you can board to the station\n",
      "Exit!!\n",
      "Enter a station code from  1 to 6, Bus Exit: 0\n",
      "Enter the transport Type; 1-Train, 2-Bus!!\n",
      "Exited the station\n",
      "Current Balance: €28.5\n",
      "{'entry_station': 'Holborn', 'exit_station': 'Aldgate', 'balance': 28.5, 'fare': 2.5}\n",
      "Thanks for using Oyster Card!!\n"
     ]
    },
    {
     "output_type": "error",
     "ename": "SystemExit",
     "evalue": "",
     "traceback": [
      "An exception has occurred, use %tb to see the full traceback.\n",
      "\u001b[1;31mSystemExit\u001b[0m\n"
     ]
    }
   ],
   "metadata": {}
  },
  {
   "cell_type": "markdown",
   "source": [
    "**Any one zone outside zone 1 ; From Arsenal to Hammersmith**"
   ],
   "metadata": {}
  },
  {
   "cell_type": "code",
   "execution_count": 6,
   "source": [
    "menu_obj.main_menu()"
   ],
   "outputs": [
    {
     "output_type": "stream",
     "name": "stdout",
     "text": [
      "Boarding!!\n",
      "Enter a station code from  1 to 6, Bus Exit: 0\n",
      "Enter the transport Type; 1-Train, 2-Bus!!\n",
      "Now you can board to the station\n",
      "Exit!!\n",
      "Enter a station code from  1 to 6, Bus Exit: 0\n",
      "Enter the transport Type; 1-Train, 2-Bus!!\n",
      "Exited the station\n",
      "Current Balance: €26.5\n",
      "{'entry_station': 'Arsenal', 'exit_station': 'Hammersmith', 'balance': 26.5, 'fare': 2.0}\n",
      "Thanks for using Oyster Card!!\n"
     ]
    },
    {
     "output_type": "error",
     "ename": "SystemExit",
     "evalue": "",
     "traceback": [
      "An exception has occurred, use %tb to see the full traceback.\n",
      "\u001b[1;31mSystemExit\u001b[0m\n"
     ]
    }
   ],
   "metadata": {}
  },
  {
   "cell_type": "markdown",
   "source": [
    "**Any two zones including zone 1; From Hammersmith to Holborn**"
   ],
   "metadata": {}
  },
  {
   "cell_type": "code",
   "execution_count": 7,
   "source": [
    "menu_obj.main_menu()"
   ],
   "outputs": [
    {
     "output_type": "stream",
     "name": "stdout",
     "text": [
      "Boarding!!\n",
      "Enter a station code from  1 to 6, Bus Exit: 0\n",
      "Enter the transport Type; 1-Train, 2-Bus!!\n",
      "Now you can board to the station\n",
      "Exit!!\n",
      "Enter a station code from  1 to 6, Bus Exit: 0\n",
      "Enter the transport Type; 1-Train, 2-Bus!!\n",
      "Exited the station\n",
      "Current Balance: €23.5\n",
      "{'entry_station': 'Hammersmith', 'exit_station': 'Holborn', 'balance': 23.5, 'fare': 3.0}\n",
      "Thanks for using Oyster Card!!\n"
     ]
    },
    {
     "output_type": "error",
     "ename": "SystemExit",
     "evalue": "",
     "traceback": [
      "An exception has occurred, use %tb to see the full traceback.\n",
      "\u001b[1;31mSystemExit\u001b[0m\n"
     ]
    }
   ],
   "metadata": {}
  },
  {
   "cell_type": "markdown",
   "source": [
    "**Any two zones excluding zone 1; From Arsenal to Wimbledon**"
   ],
   "metadata": {}
  },
  {
   "cell_type": "code",
   "execution_count": 8,
   "source": [
    "menu_obj.main_menu()"
   ],
   "outputs": [
    {
     "output_type": "stream",
     "name": "stdout",
     "text": [
      "Boarding!!\n",
      "Enter a station code from  1 to 6, Bus Exit: 0\n",
      "Enter the transport Type; 1-Train, 2-Bus!!\n",
      "Now you can board to the station\n",
      "Exit!!\n",
      "Enter a station code from  1 to 6, Bus Exit: 0\n",
      "Enter the transport Type; 1-Train, 2-Bus!!\n",
      "Exited the station\n",
      "Current Balance: €21.25\n",
      "{'entry_station': 'Arsenal', 'exit_station': 'Wimbledon', 'balance': 21.25, 'fare': 2.25}\n",
      "Thanks for using Oyster Card!!\n"
     ]
    },
    {
     "output_type": "error",
     "ename": "SystemExit",
     "evalue": "",
     "traceback": [
      "An exception has occurred, use %tb to see the full traceback.\n",
      "\u001b[1;31mSystemExit\u001b[0m\n"
     ]
    }
   ],
   "metadata": {}
  },
  {
   "cell_type": "markdown",
   "source": [
    "**More than two zones (3+); From Wimbledon to Aldgate**"
   ],
   "metadata": {}
  },
  {
   "cell_type": "code",
   "execution_count": 9,
   "source": [
    "menu_obj.main_menu()"
   ],
   "outputs": [
    {
     "output_type": "stream",
     "name": "stdout",
     "text": [
      "Boarding!!\n",
      "Enter a station code from  1 to 6, Bus Exit: 0\n",
      "Enter the transport Type; 1-Train, 2-Bus!!\n",
      "Now you can board to the station\n",
      "Exit!!\n",
      "Enter a station code from  1 to 6, Bus Exit: 0\n",
      "Enter the transport Type; 1-Train, 2-Bus!!\n",
      "Exited the station\n",
      "Current Balance: €18.05\n",
      "{'entry_station': 'Wimbledon', 'exit_station': 'Aldgate', 'balance': 18.05, 'fare': 3.2}\n",
      "Thanks for using Oyster Card!!\n"
     ]
    },
    {
     "output_type": "error",
     "ename": "SystemExit",
     "evalue": "",
     "traceback": [
      "An exception has occurred, use %tb to see the full traceback.\n",
      "\u001b[1;31mSystemExit\u001b[0m\n"
     ]
    }
   ],
   "metadata": {}
  },
  {
   "cell_type": "markdown",
   "source": [
    "**Any bus journey; Earl’s Court to Chelsea** \r\n",
    "</br>\r\n",
    "If the current balance is less than the minimum balance. So, system will prompt a request for adding amount."
   ],
   "metadata": {}
  },
  {
   "cell_type": "code",
   "execution_count": 10,
   "source": [
    "menu_obj.main_menu()"
   ],
   "outputs": [
    {
     "output_type": "stream",
     "name": "stdout",
     "text": [
      "Boarding!!\n",
      "Enter a station code from  1 to 6, Bus Exit: 0\n",
      "Enter the transport Type; 1-Train, 2-Bus!!\n",
      "Now you can board to the station\n",
      "Exit!!\n",
      "Enter a station code from  1 to 6, Bus Exit: 0\n",
      "enter the bus destination\n",
      "Enter the transport Type; 1-Train, 2-Bus!!\n",
      "Exited the station\n",
      "Current Balance: €16.25\n",
      "{'entry_station': 'Earl’s Court', 'exit_station': 'Chelsea', 'balance': 16.25, 'fare': 1.8}\n",
      "Thanks for using Oyster Card!!\n"
     ]
    },
    {
     "output_type": "error",
     "ename": "SystemExit",
     "evalue": "",
     "traceback": [
      "An exception has occurred, use %tb to see the full traceback.\n",
      "\u001b[1;31mSystemExit\u001b[0m\n"
     ]
    }
   ],
   "metadata": {}
  },
  {
   "cell_type": "markdown",
   "source": [
    "**where more than one fare is possible; Holburn to Earl’s Court**"
   ],
   "metadata": {}
  },
  {
   "cell_type": "code",
   "execution_count": 11,
   "source": [
    "menu_obj.main_menu()"
   ],
   "outputs": [
    {
     "output_type": "stream",
     "name": "stdout",
     "text": [
      "Boarding!!\n",
      "Enter a station code from  1 to 6, Bus Exit: 0\n",
      "Enter the transport Type; 1-Train, 2-Bus!!\n",
      "Now you can board to the station\n",
      "Exit!!\n",
      "Enter a station code from  1 to 6, Bus Exit: 0\n",
      "Enter the transport Type; 1-Train, 2-Bus!!\n",
      "multiple fares possible, flat rate: 2.50\n",
      "Exited the station\n",
      "Current Balance: €13.75\n",
      "{'entry_station': 'Holborn', 'exit_station': 'Earl’s Court', 'balance': 13.75, 'fare': 2.5}\n",
      "Thanks for using Oyster Card!!\n"
     ]
    },
    {
     "output_type": "error",
     "ename": "SystemExit",
     "evalue": "",
     "traceback": [
      "An exception has occurred, use %tb to see the full traceback.\n",
      "\u001b[1;31mSystemExit\u001b[0m\n"
     ]
    }
   ],
   "metadata": {}
  },
  {
   "cell_type": "markdown",
   "source": [
    "**Earl’s Court to Hammersmith**"
   ],
   "metadata": {}
  },
  {
   "cell_type": "code",
   "execution_count": 12,
   "source": [
    "menu_obj.main_menu()"
   ],
   "outputs": [
    {
     "output_type": "stream",
     "name": "stdout",
     "text": [
      "Boarding!!\n",
      "Enter a station code from  1 to 6, Bus Exit: 0\n",
      "Enter the transport Type; 1-Train, 2-Bus!!\n",
      "Now you can board to the station\n",
      "Exit!!\n",
      "Enter a station code from  1 to 6, Bus Exit: 0\n",
      "Enter the transport Type; 1-Train, 2-Bus!!\n",
      "multiple fares possible, flat rate: 2.50\n",
      "Exited the station\n",
      "Current Balance: €11.25\n",
      "{'entry_station': 'Earl’s Court', 'exit_station': 'Hammersmith', 'balance': 11.25, 'fare': 2.5}\n",
      "Thanks for using Oyster Card!!\n"
     ]
    },
    {
     "output_type": "error",
     "ename": "SystemExit",
     "evalue": "",
     "traceback": [
      "An exception has occurred, use %tb to see the full traceback.\n",
      "\u001b[1;31mSystemExit\u001b[0m\n"
     ]
    }
   ],
   "metadata": {}
  }
 ],
 "metadata": {
  "orig_nbformat": 4,
  "language_info": {
   "name": "python",
   "version": "3.8.8",
   "mimetype": "text/x-python",
   "codemirror_mode": {
    "name": "ipython",
    "version": 3
   },
   "pygments_lexer": "ipython3",
   "nbconvert_exporter": "python",
   "file_extension": ".py"
  },
  "kernelspec": {
   "name": "python3",
   "display_name": "Python 3.8.8 64-bit ('base': conda)"
  },
  "interpreter": {
   "hash": "a01965aef490a562d96837df74be6b8ebe805647e8f4f8953db8d111e1a5a103"
  }
 },
 "nbformat": 4,
 "nbformat_minor": 2
}