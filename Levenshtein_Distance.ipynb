{
 "cells": [
  {
   "cell_type": "markdown",
   "source": [
    "## For this [dataset of dog names in Zurich](https://opendata.swiss/en/dataset/hundenamen-aus-dem-hundebestand-der-stadt-zurich2/resource/3e48403f-1ca2-434f-8766-cf0a73d7c2a1), I have found all names that have a Levenshtein distance of 1 to \"Luca\".\r\n",
    "\r\n",
    "### Logic Used\r\n",
    "- While data cleaning, I extract only those names which don't have any special character in them including inverted commas, For example:\r\n",
    "\r\n",
    "    - For the string: **\"Fly\" Showring i fly for you**, I have extracted \"Fly\". As per my understanding, \"Showring i fly for you\" is a phrase, not a name.\r\n",
    "\r\n",
    "    - Also, the strings which contain parenthesis, for example, in the case of **Amos (Strolchi)**, I have extracted \"Amos\". Here, I had a little bit of confusion regarding which name I should pick.\r\n",
    "\r\n",
    "*I might misjudged the data extraction part, due to this small confusion, however, the algorithm for calculating the Levenshtein Distance is working as per expectation*\r\n",
    "\r\n",
    "\r\n"
   ],
   "metadata": {}
  },
  {
   "cell_type": "code",
   "execution_count": 117,
   "source": [
    "import pandas as pd\r\n",
    "import numpy as np\r\n",
    "import re"
   ],
   "outputs": [],
   "metadata": {}
  },
  {
   "cell_type": "code",
   "execution_count": 118,
   "source": [
    "def Levenshtein_Distance(str1, str2):\r\n",
    "    m = len(str1) + 1\r\n",
    "    n = len(str2) + 1\r\n",
    "    \r\n",
    "    data = np.empty(shape=(m,n))\r\n",
    "\r\n",
    "    for i in range(m):\r\n",
    "        for j in range(n):\r\n",
    "            if i==0:\r\n",
    "                data[i,j] = j\r\n",
    "            elif j==0:\r\n",
    "                data[i,j] = i\r\n",
    "            \r\n",
    "            elif str1[i-1] == str2[j-1]:\r\n",
    "                data[i,j] = data[i-1, j-1]\r\n",
    "\r\n",
    "            else:\r\n",
    "                data[i,j] = 1+ min(data[i,j-1], data[i-1,j], data[i-1,j-1])\r\n",
    "\r\n",
    "    return data[-1,-1]"
   ],
   "outputs": [],
   "metadata": {}
  },
  {
   "cell_type": "code",
   "execution_count": 119,
   "source": [
    "def final_names(file_name, tar_str):\r\n",
    "\r\n",
    "    df = pd.read_csv(file_name)\r\n",
    "    df_name = df['HUNDENAME']\r\n",
    "    f_name = []\r\n",
    "    \r\n",
    "    for in_str in df_name.values:\r\n",
    "        cond1  = re.search(r'\"([^\"]*)\"', in_str)\r\n",
    "        cond2 = re.search(r'\\(([^)]+)', in_str)\r\n",
    "        if cond1:\r\n",
    "            name = cond1.group(1)\r\n",
    "            dist = Levenshtein_Distance(name, tar_str)\r\n",
    "            if dist == 1:\r\n",
    "                f_name.append(name)\r\n",
    "\r\n",
    "        elif cond2:\r\n",
    "            name = in_str.split(' ')[0]\r\n",
    "            dist = Levenshtein_Distance(name, tar_str)\r\n",
    "            if dist == 1:\r\n",
    "                f_name.append(name)\r\n",
    "            \r\n",
    "        else:\r\n",
    "            dist = Levenshtein_Distance(in_str, tar_str)\r\n",
    "            if dist == 1:\r\n",
    "                f_name.append(in_str)\r\n",
    "\r\n",
    "\r\n",
    "    return f_name"
   ],
   "outputs": [],
   "metadata": {}
  },
  {
   "cell_type": "code",
   "execution_count": 122,
   "source": [
    "file_name = \"20210103_hundenamen.csv\"\r\n",
    "tar_str = \"Luca\"\r\n",
    "out = final_names(file_name, tar_str)\r\n",
    "print(f'names that have a Levenshtein distance of 1 to \"Luca\" = {len(out)}\\n')\r\n",
    "comma_sep_string = \",\".join(out)\r\n",
    "print(comma_sep_string)"
   ],
   "outputs": [
    {
     "output_type": "stream",
     "name": "stdout",
     "text": [
      "names that have a Levenshtein distance of 1 to \"Luca\" = 148\n",
      "\n",
      "Cuca,Lua,Lua,Lua,Lua,Lua,Lua,Luba,Lucas,Luce,Luce,Luce,Lucia,Lucy,Lucy,Lucy,Lucy,Lucy,Lucy,Lucy,Lucy,Lucy,Lucy,Lucy,Lucy,Lucy,Lucy,Lucy,Lucy,Lucy,Lucy,Lucy,Lucy,Lucy,Lucy,Lucy,Lucy,Lula,Lula,Luma,Luma,Luna,Luna,Luna,Luna,Luna,Luna,Luna,Luna,Luna,Luna,Luna,Luna,Luna,Luna,Luna,Luna,Luna,Luna,Luna,Luna,Luna,Luna,Luna,Luna,Luna,Luna,Luna,Luna,Luna,Luna,Luna,Luna,Luna,Luna,Luna,Luna,Luna,Luna,Luna,Luna,Luna,Luna,Luna,Luna,Luna,Luna,Luna,Luna,Luna,Luna,Luna,Luna,Luna,Luna,Luna,Luna,Luna,Luna,Luna,Luna,Luna,Luna,Luna,Luna,Luna,Luna,Luna,Luna,Luna,Luna,Luna,Luna,Luna,Luna,Luna,Luna,Luna,Luna,Luna,Luna,Luna,Luna,Luna,Luna,Luna,Luna,Luna,Luna,Luna,Luna,Luna,Luna,Luna,Luna,Luna,Luna,Luna,Luna,Luna,Luna,Luna,Lupa,Lupa,Lupa,Lupa,Lupa,Yuca\n"
     ]
    }
   ],
   "metadata": {}
  },
  {
   "cell_type": "code",
   "execution_count": 1,
   "source": [
    "truth = \"beauty\"\r\n",
    "index = 0\r\n",
    "letter = []\r\n",
    "while index < len(truth):\r\n",
    "    letter.append(truth[index])\r\n",
    "    index += 2\r\n",
    "\r\n",
    "letters = '-'.join(letter)\r\n",
    "print(letters)"
   ],
   "outputs": [
    {
     "output_type": "stream",
     "name": "stdout",
     "text": [
      "b-a-t\n"
     ]
    }
   ],
   "metadata": {}
  },
  {
   "cell_type": "code",
   "execution_count": null,
   "source": [],
   "outputs": [],
   "metadata": {}
  }
 ],
 "metadata": {
  "orig_nbformat": 4,
  "language_info": {
   "name": "python",
   "version": "3.8.3",
   "mimetype": "text/x-python",
   "codemirror_mode": {
    "name": "ipython",
    "version": 3
   },
   "pygments_lexer": "ipython3",
   "nbconvert_exporter": "python",
   "file_extension": ".py"
  },
  "kernelspec": {
   "name": "python3",
   "display_name": "Python 3.8.3 64-bit"
  },
  "interpreter": {
   "hash": "9cc99a4f2b96506582f0cda5a47e2d6ebd74c034f63b5627ddd354f4018e771c"
  }
 },
 "nbformat": 4,
 "nbformat_minor": 2
}