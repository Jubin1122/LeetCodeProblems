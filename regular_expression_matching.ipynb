{
 "cells": [
  {
   "cell_type": "markdown",
   "source": [
    "## Regular Expression Matching"
   ],
   "metadata": {}
  },
  {
   "cell_type": "markdown",
   "source": [
    "Example 1:\r\n",
    "\r\n",
    "Input: s = \"aa\", p = \"a\"\r\n",
    "Output: false\r\n",
    "Explanation: \"a\" does not match the entire string \"aa\"."
   ],
   "metadata": {}
  },
  {
   "cell_type": "code",
   "execution_count": 18,
   "source": [
    "import numpy as np\r\n",
    "class Solution:\r\n",
    "    def isMatch(self, s: str, p: str) -> bool:\r\n",
    "        mask_mat = np.zeros((len(s)+1,len(p)+1), bool)\r\n",
    "        mask_mat[0][0] = True\r\n",
    "        #print(mask_mat,'\\n')\r\n",
    "        \r\n",
    "        for i in range(1, len(mask_mat[0])):\r\n",
    "            if p[i-1] == '*':\r\n",
    "                mask_mat[0][i] = mask_mat[0][i-2]\r\n",
    "            \r\n",
    "        for i in range(1, len(mask_mat)):\r\n",
    "            for j in range(1, len(mask_mat[0])):\r\n",
    "                if p[j-1] == '.' or (p[j-1]==s[i-1]):\r\n",
    "                    mask_mat[i][j] = mask_mat[i-1][j-1]\r\n",
    "        \r\n",
    "                elif p[j-1] == '*':\r\n",
    "                    mask_mat[i][j] = mask_mat[i][j-2]\r\n",
    "                    if p[j-2] == '.' or p[j-2] == s[i-1]:\r\n",
    "                        mask_mat[i][j] = mask_mat[i][j] or mask_mat[i-1][j]\r\n",
    "\r\n",
    "                else:\r\n",
    "                    mask_mat[i][j] =False\r\n",
    "        \r\n",
    "        return mask_mat[-1][-1]"
   ],
   "outputs": [],
   "metadata": {}
  },
  {
   "cell_type": "code",
   "execution_count": 19,
   "source": [
    "s = 'aab'\r\n",
    "p = 'c*a*b'\r\n",
    "obj = Solution()\r\n",
    "print(obj.isMatch(s,p))"
   ],
   "outputs": [
    {
     "output_type": "stream",
     "name": "stdout",
     "text": [
      "True\n"
     ]
    }
   ],
   "metadata": {}
  }
 ],
 "metadata": {
  "orig_nbformat": 4,
  "language_info": {
   "name": "python",
   "version": "3.8.8",
   "mimetype": "text/x-python",
   "codemirror_mode": {
    "name": "ipython",
    "version": 3
   },
   "pygments_lexer": "ipython3",
   "nbconvert_exporter": "python",
   "file_extension": ".py"
  },
  "kernelspec": {
   "name": "python3",
   "display_name": "Python 3.8.8 64-bit ('base': conda)"
  },
  "interpreter": {
   "hash": "a01965aef490a562d96837df74be6b8ebe805647e8f4f8953db8d111e1a5a103"
  }
 },
 "nbformat": 4,
 "nbformat_minor": 2
}