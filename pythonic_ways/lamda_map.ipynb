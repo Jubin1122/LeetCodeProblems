{
 "cells": [
  {
   "cell_type": "markdown",
   "source": [
    "# How to remove values below 0 in 2D array and squaring remaining value using python lambda map"
   ],
   "metadata": {}
  },
  {
   "cell_type": "code",
   "execution_count": 7,
   "source": [
    "list1 = [[-1, 2, 3, 4, -2], [-4, 3, 2]]\r\n",
    "\r\n",
    "output = list(\r\n",
    "    map(\r\n",
    "        lambda l: [i**2 for i in list(filter(lambda x: x > 0, l))] ,\r\n",
    "        list1\r\n",
    "    )\r\n",
    ")\r\n",
    "\r\n",
    "print(output)"
   ],
   "outputs": [
    {
     "output_type": "stream",
     "name": "stdout",
     "text": [
      "[[4, 9, 16], [9, 4]]\n"
     ]
    }
   ],
   "metadata": {}
  },
  {
   "cell_type": "markdown",
   "source": [
    "The code of the lambda is typically a single expression without variables or if-statements, and does not use \"return\". Lambda is perfect where you have a short computation to write inline. Many programs have some sub-part which can be solved very compactly this way. For longer code, def is better.\r\n",
    "\r\n",
    "The map() function runs a lambda function over the list [1, 2, 3, 4, 5], building a list-like collection of the results, like this:\r\n",
    "To work with map(), the lambda should have one parameter in, representing one element from the source list. Choose a suitable name for the parameter, like n for a list of numbers, s for a list of strings. The result of map() is an \"iterable\" map object which mostly works like a list, but it does not print. Therefore, the examples wrap the map() result in list() for printing."
   ],
   "metadata": {}
  },
  {
   "cell_type": "code",
   "execution_count": 14,
   "source": [
    "ls = [1,2,-3,-4,5]\r\n",
    "out = list(filter(lambda s: s>0, ls))\r\n",
    "out"
   ],
   "outputs": [
    {
     "output_type": "execute_result",
     "data": {
      "text/plain": [
       "[1, 2, 5]"
      ]
     },
     "metadata": {},
     "execution_count": 14
    }
   ],
   "metadata": {}
  }
 ],
 "metadata": {
  "orig_nbformat": 4,
  "language_info": {
   "name": "python",
   "version": "3.8.8",
   "mimetype": "text/x-python",
   "codemirror_mode": {
    "name": "ipython",
    "version": 3
   },
   "pygments_lexer": "ipython3",
   "nbconvert_exporter": "python",
   "file_extension": ".py"
  },
  "kernelspec": {
   "name": "python3",
   "display_name": "Python 3.8.8 64-bit ('base': conda)"
  },
  "interpreter": {
   "hash": "a01965aef490a562d96837df74be6b8ebe805647e8f4f8953db8d111e1a5a103"
  }
 },
 "nbformat": 4,
 "nbformat_minor": 2
}