{
 "cells": [
  {
   "cell_type": "markdown",
   "source": [
    "## 9. Palindrome Number\r\n",
    "\r\n",
    "Given an integer x, return true if x is palindrome integer.\r\n",
    "\r\n",
    "An integer is a palindrome when it reads the same backward as forward. For example, 121 is palindrome while 123 is not.\r\n",
    "\r\n",
    "**Follow up: Could you solve it without converting the integer to a string?**\r\n"
   ],
   "metadata": {}
  },
  {
   "cell_type": "code",
   "execution_count": 8,
   "source": [
    "import numpy as np\r\n",
    "class Solution:\r\n",
    "    def isPalindrome(self, x: int) -> bool:\r\n",
    "        \r\n",
    "        if x < 0:\r\n",
    "            return False\r\n",
    "        ''''\r\n",
    "        # Approach 1\r\n",
    "        x = str(x)\r\n",
    "        i= 0\r\n",
    "        j =len(x) - 1\r\n",
    "        while i < j and i!=j:\r\n",
    "            if int(x[i]) != int(x[j]):\r\n",
    "                return False\r\n",
    "            i +=1\r\n",
    "            j -=1\r\n",
    "        # Approach 2\r\n",
    "        original = np.copy(x)\r\n",
    "        digits = len(str(x)) - 1\r\n",
    "        num = 0\r\n",
    "        temp = None\r\n",
    "        while x!= 0: \r\n",
    "            r = x % 10\r\n",
    "            x = x//10\r\n",
    "            temp = r * (10**digits)\r\n",
    "            num += temp\r\n",
    "            digits -= 1\r\n",
    "        print(f'num: {num}; original:{original}')\r\n",
    "        if num != x:\r\n",
    "            return False\r\n",
    "        '''\r\n",
    "        # Appraoch 3\r\n",
    "        rev = 0\r\n",
    "\r\n",
    "        while x > rev:\r\n",
    "\r\n",
    "            rev = rev*10 + x%10\r\n",
    "            x//=10\r\n",
    "            print(x)\r\n",
    "\r\n",
    "        print(rev//10)\r\n",
    "        return x == rev or x == rev//10"
   ],
   "outputs": [],
   "metadata": {}
  },
  {
   "cell_type": "code",
   "execution_count": 10,
   "source": [
    "obj = Solution()\r\n",
    "print(obj.isPalindrome(121))"
   ],
   "outputs": [
    {
     "output_type": "stream",
     "name": "stdout",
     "text": [
      "12\n",
      "1\n",
      "1\n",
      "True\n"
     ]
    }
   ],
   "metadata": {}
  },
  {
   "cell_type": "code",
   "execution_count": null,
   "source": [],
   "outputs": [],
   "metadata": {}
  }
 ],
 "metadata": {
  "orig_nbformat": 4,
  "language_info": {
   "name": "python",
   "version": "3.8.8",
   "mimetype": "text/x-python",
   "codemirror_mode": {
    "name": "ipython",
    "version": 3
   },
   "pygments_lexer": "ipython3",
   "nbconvert_exporter": "python",
   "file_extension": ".py"
  },
  "kernelspec": {
   "name": "python3",
   "display_name": "Python 3.8.8 64-bit ('base': conda)"
  },
  "interpreter": {
   "hash": "a01965aef490a562d96837df74be6b8ebe805647e8f4f8953db8d111e1a5a103"
  }
 },
 "nbformat": 4,
 "nbformat_minor": 2
}