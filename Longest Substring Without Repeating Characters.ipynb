{
 "cells": [
  {
   "cell_type": "markdown",
   "source": [
    "## Sliding window approach using two for loops (O^2)"
   ],
   "metadata": {}
  },
  {
   "cell_type": "code",
   "execution_count": 25,
   "source": [
    "def lengthOfLongestSubstring(s):\r\n",
    "    ls = \"\"\r\n",
    "    temp_str = \"\"\r\n",
    "\r\n",
    "    if len(s)==0:\r\n",
    "        return 0\r\n",
    "    if len(s)==1:\r\n",
    "        return 1\r\n",
    "    i = 0\r\n",
    "    while i < len(s):\r\n",
    "        for ind in range(i,len(s)):\r\n",
    "            val = s[ind]\r\n",
    "            if val not in temp_str:\r\n",
    "                temp_str += val\r\n",
    "            else:\r\n",
    "                if len(temp_str) > len(ls):\r\n",
    "                    ls = temp_str\r\n",
    "                    temp_str = \"\"\r\n",
    "                    break\r\n",
    "                else:\r\n",
    "                    temp_str = \"\"\r\n",
    "                    break\r\n",
    "\r\n",
    "        i += 1\r\n",
    "    \r\n",
    "    return len(ls)\r\n"
   ],
   "outputs": [],
   "metadata": {}
  },
  {
   "cell_type": "code",
   "execution_count": 26,
   "source": [
    "out = lengthOfLongestSubstring(\" \")\r\n",
    "print(out)"
   ],
   "outputs": [
    {
     "output_type": "stream",
     "name": "stdout",
     "text": [
      "1\n"
     ]
    }
   ],
   "metadata": {}
  },
  {
   "cell_type": "markdown",
   "source": [
    "# Linear time complexity O(n)\r\n",
    "Here, I will use a moving counter, a start index, and a dictionary to keep track of repeating caracters and update the start index.\r\n",
    "\r\n",
    "Moreover, the start_index and moving counter is responsible to select a substring, and will update the max_len variable."
   ],
   "metadata": {}
  },
  {
   "cell_type": "code",
   "execution_count": 28,
   "source": [
    "def lengthOfLongestSubstring(s):\r\n",
    "\r\n",
    "    l_ind = {}\r\n",
    "    start = 0\r\n",
    "    max_len = 0\r\n",
    "\r\n",
    "    for i in range(len(s)):\r\n",
    "\r\n",
    "        if s[i] in l_ind:\r\n",
    "            start = max(start, l_ind[s[i]] +1)\r\n",
    "\r\n",
    "        max_len = max(max_len, i-start + 1)\r\n",
    "        l_ind[s[i]] = i\r\n",
    "\r\n",
    "    return max_len\r\n"
   ],
   "outputs": [],
   "metadata": {}
  },
  {
   "cell_type": "code",
   "execution_count": 33,
   "source": [
    "out = lengthOfLongestSubstring(\" \")\r\n",
    "print(out)"
   ],
   "outputs": [
    {
     "output_type": "stream",
     "name": "stdout",
     "text": [
      "1\n"
     ]
    }
   ],
   "metadata": {}
  }
 ],
 "metadata": {
  "orig_nbformat": 4,
  "language_info": {
   "name": "python",
   "version": "3.8.8",
   "mimetype": "text/x-python",
   "codemirror_mode": {
    "name": "ipython",
    "version": 3
   },
   "pygments_lexer": "ipython3",
   "nbconvert_exporter": "python",
   "file_extension": ".py"
  },
  "kernelspec": {
   "name": "python3",
   "display_name": "Python 3.8.8 64-bit ('base': conda)"
  },
  "interpreter": {
   "hash": "a01965aef490a562d96837df74be6b8ebe805647e8f4f8953db8d111e1a5a103"
  }
 },
 "nbformat": 4,
 "nbformat_minor": 2
}