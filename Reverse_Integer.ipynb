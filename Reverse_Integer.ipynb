{
 "cells": [
  {
   "cell_type": "markdown",
   "source": [
    "# Reverse Integer\r\n",
    "\r\n",
    "```\r\n",
    "Given a signed 32-bit integer x, return x with its digits reversed. If reversing x causes the value to go outside the signed 32-bit integer range [-231, 231 - 1], then return 0.\r\n",
    "There is no need to specify the data types for variables in python as the interpreter itself predicts the variable data type based on the value assigned to that variable. \r\n",
    "The int data type in python simply the same as the signed integer.  \r\n",
    "\r\n",
    "```\r\n",
    "**A signed integer is a 32-bit integer in the range of -(2^31) = -2147483648 to (2^31) – 1=2147483647 which contains positive or negative numbers.**"
   ],
   "metadata": {}
  },
  {
   "cell_type": "markdown",
   "source": [
    "\r\n",
    "Reverse Integer\r\n",
    "\r\n",
    "Example 1:\r\n",
    "\r\n",
    "Input: x = 123\r\n",
    "Output: 321\r\n",
    "\r\n",
    "\r\n",
    "Example 2:\r\n",
    "\r\n",
    "Input: x = -123\r\n",
    "Output: -321"
   ],
   "metadata": {}
  },
  {
   "cell_type": "code",
   "execution_count": 2,
   "source": [
    "def reverse(x):\r\n",
    "    val = 0\r\n",
    "    if x < 0:\r\n",
    "        val = x\r\n",
    "        x = x*-1\r\n",
    "\r\n",
    "    x =list(str(x))\r\n",
    "    i =0\r\n",
    "    j = len(x) - 1\r\n",
    "    while i < j:\r\n",
    "        temp = x[i] \r\n",
    "        x[i] = x[j]\r\n",
    "        x[j] = temp\r\n",
    "        i +=1\r\n",
    "        j -= 1\r\n",
    "\r\n",
    "    out = int(''.join(x))\r\n",
    "    if val < 0:\r\n",
    "        out = out * -1\r\n",
    "\r\n",
    "    if out in range(-2 ** 31, (2**31) - 1):\r\n",
    "        return out\r\n",
    "    else:\r\n",
    "        return 0"
   ],
   "outputs": [],
   "metadata": {}
  },
  {
   "cell_type": "code",
   "execution_count": 3,
   "source": [
    "out  = reverse(1534236469)\r\n",
    "print(out)"
   ],
   "outputs": [
    {
     "output_type": "stream",
     "name": "stdout",
     "text": [
      "0\n"
     ]
    }
   ],
   "metadata": {}
  }
 ],
 "metadata": {
  "orig_nbformat": 4,
  "language_info": {
   "name": "python",
   "version": "3.8.8",
   "mimetype": "text/x-python",
   "codemirror_mode": {
    "name": "ipython",
    "version": 3
   },
   "pygments_lexer": "ipython3",
   "nbconvert_exporter": "python",
   "file_extension": ".py"
  },
  "kernelspec": {
   "name": "python3",
   "display_name": "Python 3.8.8 64-bit ('base': conda)"
  },
  "interpreter": {
   "hash": "a01965aef490a562d96837df74be6b8ebe805647e8f4f8953db8d111e1a5a103"
  }
 },
 "nbformat": 4,
 "nbformat_minor": 2
}