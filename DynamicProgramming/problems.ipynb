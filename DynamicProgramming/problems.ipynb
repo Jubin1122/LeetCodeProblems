{
 "cells": [
  {
   "cell_type": "markdown",
   "source": [
    "# [How to solve a Dynamic Programming Problem ?](https://www.geeksforgeeks.org/solve-dynamic-programming-problem/)\r\n",
    "\r\n",
    "## Given 3 numbers {1, 3, 5}, we need to tell\r\n",
    "## the total number of ways we can form a number 'N' \r\n",
    "## using the sum of the given three numbers.\r\n",
    "\r\n",
    "```\r\n",
    "Total number of ways to form 6 is: 8\r\n",
    "1+1+1+1+1+1\r\n",
    "1+1+1+3\r\n",
    "1+1+3+1\r\n",
    "1+3+1+1\r\n",
    "3+1+1+1\r\n",
    "3+3\r\n",
    "1+5\r\n",
    "5+1\r\n",
    "```"
   ],
   "metadata": {}
  },
  {
   "cell_type": "code",
   "execution_count": null,
   "source": [
    "def solve(n, lookup= {}):\r\n",
    "        # Base cases\r\n",
    "    # negative number can't be\r\n",
    "    # produced, return 0\r\n",
    "    if n < 0:\r\n",
    "        return 0\r\n",
    "\r\n",
    "    if n == 0:\r\n",
    "        return 1\r\n",
    "    \r\n",
    "    if n not in lookup:\r\n",
    "        lookup[n] = (solve(n - 1) +\r\n",
    "                     solve(n - 3) +\r\n",
    "                     solve(n - 5))\r\n",
    "\r\n",
    "    return lookup[n]\r\n",
    "                      "
   ],
   "outputs": [],
   "metadata": {}
  },
  {
   "cell_type": "code",
   "execution_count": 41,
   "source": [
    "out =solve(7)\r\n",
    "print(out)"
   ],
   "outputs": [
    {
     "output_type": "stream",
     "name": "stdout",
     "text": [
      "False\n"
     ]
    }
   ],
   "metadata": {}
  }
 ],
 "metadata": {
  "orig_nbformat": 4,
  "language_info": {
   "name": "python",
   "version": "3.8.8",
   "mimetype": "text/x-python",
   "codemirror_mode": {
    "name": "ipython",
    "version": 3
   },
   "pygments_lexer": "ipython3",
   "nbconvert_exporter": "python",
   "file_extension": ".py"
  },
  "kernelspec": {
   "name": "python3",
   "display_name": "Python 3.8.8 64-bit ('base': conda)"
  },
  "interpreter": {
   "hash": "a01965aef490a562d96837df74be6b8ebe805647e8f4f8953db8d111e1a5a103"
  }
 },
 "nbformat": 4,
 "nbformat_minor": 2
}