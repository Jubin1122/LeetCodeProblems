{
 "cells": [
  {
   "cell_type": "markdown",
   "source": [
    "## Add two numbers"
   ],
   "metadata": {}
  },
  {
   "cell_type": "markdown",
   "source": [
    "![title](img/addtwonumber1.jpg)"
   ],
   "metadata": {}
  },
  {
   "cell_type": "code",
   "execution_count": null,
   "source": [],
   "outputs": [],
   "metadata": {}
  },
  {
   "cell_type": "code",
   "execution_count": 109,
   "source": [
    "class ListNode:\r\n",
    "    def __init__(self, val=0, next=None):\r\n",
    "        self.val = val\r\n",
    "        self.next = next\r\n",
    "\r\n",
    "\"\"\"\r\n",
    "class LinkedList:\r\n",
    "\r\n",
    "    def __init__(self, head=None):\r\n",
    "        self.head= head\r\n",
    "\r\n",
    "\"\"\""
   ],
   "outputs": [],
   "metadata": {}
  },
  {
   "cell_type": "code",
   "execution_count": 110,
   "source": [
    "class Solution:\r\n",
    "    def addTwoNumbers(self, l1: ListNode, l2: ListNode) -> ListNode:\r\n",
    "        \r\n",
    "        result = ListNode()\r\n",
    "        result_tail = result\r\n",
    "        carry = 0\r\n",
    "        while l1 and l2:\r\n",
    "            sums = l1.val + l2.val + carry\r\n",
    "            carry = 0\r\n",
    "            if sums>=10:\r\n",
    "                carry = sums//10\r\n",
    "                sums = sums%10\r\n",
    "            result_tail.next = ListNode(sums)\r\n",
    "            result_tail = result_tail.next\r\n",
    "            l1 = l1.next\r\n",
    "            l2 = l2.next\r\n",
    "        \r\n",
    "        while l1:\r\n",
    "            sums = l1.val + carry\r\n",
    "            carry = 0\r\n",
    "            if sums>=10:\r\n",
    "                carry = sums//10\r\n",
    "                sums = sums%10\r\n",
    "            result_tail.next = ListNode(sums)\r\n",
    "            result_tail = result_tail.next\r\n",
    "            l1 = l1.next\r\n",
    "        \r\n",
    "        while l2:\r\n",
    "            sums = l2.val + carry\r\n",
    "            carry = 0\r\n",
    "            if sums>=10:\r\n",
    "                carry = sums//10\r\n",
    "                sums = sums%10\r\n",
    "            result_tail.next = ListNode(sums)\r\n",
    "            result_tail = result_tail.next\r\n",
    "            l2 = l2.next\r\n",
    "            \r\n",
    "        if carry == 1:\r\n",
    "            result_tail.next = ListNode(carry)\r\n",
    "            result_tail = result_tail.next\r\n",
    "        \r\n",
    "        return result.next\r\n",
    "            \r\n"
   ],
   "outputs": [],
   "metadata": {}
  },
  {
   "cell_type": "code",
   "execution_count": 4,
   "source": [
    "[1,2,3] + list('_'*3)"
   ],
   "outputs": [
    {
     "output_type": "execute_result",
     "data": {
      "text/plain": [
       "[1, 2, 3, '_', '_', '_']"
      ]
     },
     "metadata": {},
     "execution_count": 4
    }
   ],
   "metadata": {}
  },
  {
   "cell_type": "code",
   "execution_count": 5,
   "source": [
    "dic = {1:2, 2:3, 4:5}\r\n",
    "len(dic)"
   ],
   "outputs": [
    {
     "output_type": "execute_result",
     "data": {
      "text/plain": [
       "3"
      ]
     },
     "metadata": {},
     "execution_count": 5
    }
   ],
   "metadata": {}
  },
  {
   "cell_type": "code",
   "execution_count": null,
   "source": [],
   "outputs": [],
   "metadata": {}
  }
 ],
 "metadata": {
  "orig_nbformat": 4,
  "language_info": {
   "name": "python",
   "version": "3.8.8",
   "mimetype": "text/x-python",
   "codemirror_mode": {
    "name": "ipython",
    "version": 3
   },
   "pygments_lexer": "ipython3",
   "nbconvert_exporter": "python",
   "file_extension": ".py"
  },
  "kernelspec": {
   "name": "python3",
   "display_name": "Python 3.8.8 64-bit ('base': conda)"
  },
  "interpreter": {
   "hash": "a01965aef490a562d96837df74be6b8ebe805647e8f4f8953db8d111e1a5a103"
  }
 },
 "nbformat": 4,
 "nbformat_minor": 2
}