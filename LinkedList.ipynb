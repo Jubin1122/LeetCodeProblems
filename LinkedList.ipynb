{
 "cells": [
  {
   "cell_type": "markdown",
   "source": [
    "## Add two numbers"
   ],
   "metadata": {}
  },
  {
   "cell_type": "code",
   "execution_count": 109,
   "source": [
    "class ListNode:\r\n",
    "    def __init__(self, val=0, next=None):\r\n",
    "        self.val = val\r\n",
    "        self.next = next\r\n",
    "\r\n",
    "\"\"\"\r\n",
    "class LinkedList:\r\n",
    "\r\n",
    "    def __init__(self, head=None):\r\n",
    "        self.head= head\r\n",
    "\r\n",
    "\"\"\""
   ],
   "outputs": [],
   "metadata": {}
  },
  {
   "cell_type": "code",
   "execution_count": 110,
   "source": [
    "class Solution:\r\n",
    "    def addTwoNumbers(self, l1: ListNode, l2: ListNode) -> ListNode:\r\n",
    "        \r\n",
    "        result = ListNode()\r\n",
    "        result_tail = result\r\n",
    "        carry = 0\r\n",
    "        while l1 and l2:\r\n",
    "            sums = l1.val + l2.val + carry\r\n",
    "            carry = 0\r\n",
    "            if sums>=10:\r\n",
    "                carry = sums//10\r\n",
    "                sums = sums%10\r\n",
    "            result_tail.next = ListNode(sums)\r\n",
    "            result_tail = result_tail.next\r\n",
    "            l1 = l1.next\r\n",
    "            l2 = l2.next\r\n",
    "        \r\n",
    "        while l1:\r\n",
    "            sums = l1.val + carry\r\n",
    "            carry = 0\r\n",
    "            if sums>=10:\r\n",
    "                carry = sums//10\r\n",
    "                sums = sums%10\r\n",
    "            result_tail.next = ListNode(sums)\r\n",
    "            result_tail = result_tail.next\r\n",
    "            l1 = l1.next\r\n",
    "        \r\n",
    "        while l2:\r\n",
    "            sums = l2.val + carry\r\n",
    "            carry = 0\r\n",
    "            if sums>=10:\r\n",
    "                carry = sums//10\r\n",
    "                sums = sums%10\r\n",
    "            result_tail.next = ListNode(sums)\r\n",
    "            result_tail = result_tail.next\r\n",
    "            l2 = l2.next\r\n",
    "            \r\n",
    "        if carry == 1:\r\n",
    "            result_tail.next = ListNode(carry)\r\n",
    "            result_tail = result_tail.next\r\n",
    "        \r\n",
    "        return result.next\r\n",
    "            \r\n"
   ],
   "outputs": [],
   "metadata": {}
  }
 ],
 "metadata": {
  "orig_nbformat": 4,
  "language_info": {
   "name": "python",
   "version": "3.8.3",
   "mimetype": "text/x-python",
   "codemirror_mode": {
    "name": "ipython",
    "version": 3
   },
   "pygments_lexer": "ipython3",
   "nbconvert_exporter": "python",
   "file_extension": ".py"
  },
  "kernelspec": {
   "name": "python3",
   "display_name": "Python 3.8.3 64-bit"
  },
  "interpreter": {
   "hash": "9cc99a4f2b96506582f0cda5a47e2d6ebd74c034f63b5627ddd354f4018e771c"
  }
 },
 "nbformat": 4,
 "nbformat_minor": 2
}