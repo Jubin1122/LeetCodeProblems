{
 "cells": [
  {
   "cell_type": "markdown",
   "source": [
    "## Longest Palindromic Substring\r\n",
    "\r\n",
    "```\r\n",
    "Input: s = \"babad\"\r\n",
    "Output: \"bab\"\r\n",
    "Note: \"aba\" is also a valid answer.\r\n",
    "\r\n",
    "Input: s = \"cbbd\"\r\n",
    "Output: \"bb\"\r\n",
    "\r\n",
    "```\r\n",
    "## Using Brute Force\r\n",
    "The obvious brute force solution is to pick all possible starting and ending positions for a substring, and verify if it is a palindrome.\r\n",
    "\r\n",
    "**Complexity Analysis**\r\n",
    "\r\n",
    "Time complexity : O(n^3)O(n \r\n",
    "3\r\n",
    " ). Assume that nn is the length of the input string, there are a total of \\binom{n}{2} = \\frac{n(n-1)}{2}( \r\n",
    "2\r\n",
    "n\r\n",
    "​\r\n",
    " )= \r\n",
    "2\r\n",
    "n(n−1)\r\n",
    "​\r\n",
    "  such substrings (excluding the trivial solution where a character itself is a palindrome). Since verifying each substring takes O(n)O(n) time, the run time complexity is O(n^3)O(n \r\n",
    "3\r\n",
    " ).\r\n",
    "\r\n",
    "Space complexity : O(1)O(1).\r\n",
    "\r\n"
   ],
   "metadata": {}
  },
  {
   "cell_type": "markdown",
   "source": [
    "## Expand Around Center\r\n",
    "In fact, we could solve it in O(n^2)O(n \r\n",
    "2\r\n",
    " ) time using only constant space.\r\n",
    "\r\n",
    "We observe that a palindrome mirrors around its center. Therefore, a palindrome can be expanded from its center, and there are only 2n - 12n−1 such centers.\r\n",
    "\r\n",
    "**Complexity Analysis**\r\n",
    "\r\n",
    "Time complexity : O(n^2)O(n \r\n",
    "2\r\n",
    " ). Since expanding a palindrome around its center could take O(n)O(n) time, the overall complexity is O(n^2)O(n \r\n",
    "2\r\n",
    " ).\r\n",
    "\r\n",
    "Space complexity : O(1)O(1)."
   ],
   "metadata": {}
  },
  {
   "cell_type": "code",
   "execution_count": 34,
   "source": [
    "     def longestPalindrome(s):\r\n",
    "        \r\n",
    "        long_sub = \"\"\r\n",
    "        max_len = 0\r\n",
    "        \r\n",
    "        l,r = 0,0\r\n",
    "        \r\n",
    "        for i in range(len(s)):\r\n",
    "            \r\n",
    "            # Odd sub string\r\n",
    "            l,r = i, i\r\n",
    "            while (l>=0 and r < len(s)) and (s[l]==s[r]):\r\n",
    "                if (r-l+1) > max_len:\r\n",
    "                    long_sub = s[l:r+1]\r\n",
    "                    max_len = r-l+1\r\n",
    "                l -=1\r\n",
    "                r +=1\r\n",
    "                    \r\n",
    "            #  Even sub string\r\n",
    "            l,r = i, i+1\r\n",
    "            while (l>=0 and r < len(s)) and (s[l]==s[r]):\r\n",
    "                if (r-l+1) > max_len:\r\n",
    "                    long_sub = s[l:r+1]\r\n",
    "                    max_len = r-l+1\r\n",
    "                    \r\n",
    "                l -=1\r\n",
    "                r +=1\r\n",
    "                \r\n",
    "\r\n",
    "        return long_sub"
   ],
   "outputs": [],
   "metadata": {}
  },
  {
   "cell_type": "code",
   "execution_count": 37,
   "source": [
    "out = longestPalindrome(\"ac\")\r\n",
    "print(out)"
   ],
   "outputs": [
    {
     "output_type": "stream",
     "name": "stdout",
     "text": [
      "a\n"
     ]
    }
   ],
   "metadata": {}
  }
 ],
 "metadata": {
  "orig_nbformat": 4,
  "language_info": {
   "name": "python",
   "version": "3.8.8",
   "mimetype": "text/x-python",
   "codemirror_mode": {
    "name": "ipython",
    "version": 3
   },
   "pygments_lexer": "ipython3",
   "nbconvert_exporter": "python",
   "file_extension": ".py"
  },
  "kernelspec": {
   "name": "python3",
   "display_name": "Python 3.8.8 64-bit ('base': conda)"
  },
  "interpreter": {
   "hash": "a01965aef490a562d96837df74be6b8ebe805647e8f4f8953db8d111e1a5a103"
  }
 },
 "nbformat": 4,
 "nbformat_minor": 2
}