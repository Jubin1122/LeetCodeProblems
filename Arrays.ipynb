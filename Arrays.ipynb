{
 "cells": [
  {
   "cell_type": "markdown",
   "source": [
    "## 1. Two sum problem\r\n",
    "\r\n",
    "Given an array of integers nums and an integer target, return indices of the two numbers such that they add up to target.\r\n",
    "\r\n",
    "You may assume that each input would have exactly one solution, and you may not use the same element twice.\r\n",
    "\r\n",
    "You can return the answer in any order.\r\n",
    "\r\n",
    "Example 1:\r\n",
    "\r\n",
    "Input: nums = [2,7,11,15], target = 9\r\n",
    "Output: [0,1]\r\n",
    "Output: Because nums[0] + nums[1] == 9, we return [0, 1]."
   ],
   "metadata": {}
  },
  {
   "cell_type": "code",
   "execution_count": 21,
   "source": [
    "def twoSum(nums, tar):\r\n",
    "        \r\n",
    "        d = {}\r\n",
    "        for index, val in enumerate(nums):\r\n",
    "            d[val] = index\r\n",
    "\r\n",
    "        print(d)\r\n",
    "            \r\n",
    "        for i in range(0, len(nums)):\r\n",
    "            print(nums[i])\r\n",
    "            com = tar - nums[i]\r\n",
    "            if (com in d) and (i != d[com]): \r\n",
    "                if d[com] < i:\r\n",
    "                    return [d[com], i]\r\n",
    "                else:\r\n",
    "                    return [i,d[com]]"
   ],
   "outputs": [],
   "metadata": {}
  },
  {
   "cell_type": "code",
   "execution_count": 22,
   "source": [
    "res = twoSum([3,2,4], 6)\r\n",
    "print(res)"
   ],
   "outputs": [
    {
     "output_type": "stream",
     "name": "stdout",
     "text": [
      "{3: 0, 2: 1, 4: 2}\n",
      "3\n",
      "2\n",
      "4\n",
      "None\n"
     ]
    }
   ],
   "metadata": {}
  },
  {
   "cell_type": "code",
   "execution_count": null,
   "source": [],
   "outputs": [],
   "metadata": {}
  }
 ],
 "metadata": {
  "orig_nbformat": 4,
  "language_info": {
   "name": "python",
   "version": "3.8.3",
   "mimetype": "text/x-python",
   "codemirror_mode": {
    "name": "ipython",
    "version": 3
   },
   "pygments_lexer": "ipython3",
   "nbconvert_exporter": "python",
   "file_extension": ".py"
  },
  "kernelspec": {
   "name": "python3",
   "display_name": "Python 3.8.3 64-bit"
  },
  "interpreter": {
   "hash": "9cc99a4f2b96506582f0cda5a47e2d6ebd74c034f63b5627ddd354f4018e771c"
  }
 },
 "nbformat": 4,
 "nbformat_minor": 2
}