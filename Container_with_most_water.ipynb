{
 "cells": [
  {
   "cell_type": "markdown",
   "source": [
    "# 11. Container With Most Water\r\n",
    "![blank](img/question_11.jpg)"
   ],
   "metadata": {}
  },
  {
   "cell_type": "code",
   "execution_count": 2,
   "source": [
    "def sol(height):\r\n",
    "    i = 1\r\n",
    "    j = len(height)\r\n",
    "    max = 0\r\n",
    "    area = 0\r\n",
    "    while i < j and i !=j:\r\n",
    "        \r\n",
    "        #cor_set1 = (i,height[i-1])\r\n",
    "        #cor_set2 = (j, height[j-1])\r\n",
    "\r\n",
    "        #length = cor_set2[0]- cor_set1[0]\r\n",
    "        #width = min(cor_set2[1],cor_set1[1])\r\n",
    "        area = (j-i) * min(height[i-1], height[j-1])\r\n",
    "        #print(area)\r\n",
    "        if max < area:\r\n",
    "            max = area\r\n",
    "        \r\n",
    "        if height[i-1] < height[j-1]:\r\n",
    "            i +=1 \r\n",
    "        \r\n",
    "        elif height[i-1] > height[j-1]:\r\n",
    "            j -=1\r\n",
    "        \r\n",
    "        #elif height[i-1] == height[j-1]:\r\n",
    "        else:\r\n",
    "            i +=1\r\n",
    "        \r\n",
    "        #print(f'{cor_set1}\\n{cor_set2}')\r\n",
    "    return max\r\n",
    "\r\n"
   ],
   "outputs": [],
   "metadata": {}
  },
  {
   "cell_type": "code",
   "execution_count": 3,
   "source": [
    "height = [1,8,6,2,5,4,8,3,7]\r\n",
    "obj = sol(height)\r\n",
    "print(obj)"
   ],
   "outputs": [
    {
     "output_type": "stream",
     "name": "stdout",
     "text": [
      "49\n"
     ]
    }
   ],
   "metadata": {}
  }
 ],
 "metadata": {
  "orig_nbformat": 4,
  "language_info": {
   "name": "python",
   "version": "3.8.8",
   "mimetype": "text/x-python",
   "codemirror_mode": {
    "name": "ipython",
    "version": 3
   },
   "pygments_lexer": "ipython3",
   "nbconvert_exporter": "python",
   "file_extension": ".py"
  },
  "kernelspec": {
   "name": "python3",
   "display_name": "Python 3.8.8 64-bit ('base': conda)"
  },
  "interpreter": {
   "hash": "a01965aef490a562d96837df74be6b8ebe805647e8f4f8953db8d111e1a5a103"
  }
 },
 "nbformat": 4,
 "nbformat_minor": 2
}